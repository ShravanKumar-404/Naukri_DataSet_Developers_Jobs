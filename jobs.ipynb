{
 "cells": [
  {
   "cell_type": "markdown",
   "metadata": {},
   "source": [
    "# Importing Packages"
   ]
  },
  {
   "cell_type": "code",
   "execution_count": 12,
   "metadata": {},
   "outputs": [],
   "source": [
    "from selenium import webdriver\n",
    "import pandas as pd\n",
    "import time"
   ]
  },
  {
   "cell_type": "markdown",
   "metadata": {},
   "source": [
    "# Setting Up"
   ]
  },
  {
   "cell_type": "code",
   "execution_count": 13,
   "metadata": {},
   "outputs": [],
   "source": [
    "# Naukri Site\n",
    "\n",
    "naukri = \"https://www.naukri.com/\"\n",
    "edge_path = \"C:\\webdrivers\\msedgedriver.exe\"\n",
    "\n",
    "driver = webdriver.Edge(executable_path=edge_path)\n",
    "driver.get(naukri)\n",
    "driver.maximize_window()\n",
    "time.sleep(1)"
   ]
  },
  {
   "cell_type": "markdown",
   "metadata": {},
   "source": [
    "# Accepting Cookies"
   ]
  },
  {
   "cell_type": "code",
   "execution_count": null,
   "metadata": {},
   "outputs": [],
   "source": []
  },
  {
   "cell_type": "markdown",
   "metadata": {},
   "source": [
    "# Data We Want to Scrap"
   ]
  },
  {
   "cell_type": "code",
   "execution_count": 14,
   "metadata": {},
   "outputs": [],
   "source": [
    "# Searching for Python Developers\n",
    "\n",
    "n_search = driver.find_element_by_xpath('(//input[@class=\"sugInp\"])[1]')\n",
    "n_search.click()\n",
    "\n",
    "time.sleep(1)\n",
    "\n",
    "n_search.send_keys(\"Python Developer\")\n",
    "\n",
    "n_search_btn = driver.find_element_by_xpath('//*[@id=\"root\"]/div[3]/div[2]/section/div/form/div[3]/button')\n",
    "n_search_btn.click()\n",
    "\n",
    "time.sleep(10)\n",
    "\n",
    "# Closing Assistant\n",
    "cross_assist = driver.find_element_by_xpath('//div[@class=\"crossIcon chatBot chatBot-ic-cross\"]')\n",
    "cross_assist.click()\n",
    "time.sleep(2)"
   ]
  },
  {
   "cell_type": "code",
   "execution_count": 23,
   "metadata": {},
   "outputs": [],
   "source": [
    "# Fetching Data\n",
    "\n",
    "# Job Titles\n",
    "def job_role():\n",
    "    name = driver.find_elements_by_xpath('//a[@class=\"title fw500 ellipsis\"]')\n",
    "    names = [x.text for x in name]\n",
    "    return names\n",
    "\n",
    "# Company Name\n",
    "def companies():\n",
    "    company = driver.find_elements_by_xpath('//a[@class=\"subTitle ellipsis fleft\"]')\n",
    "    companys = [x.text for x in company]\n",
    "    return companys\n",
    "\n",
    "# Company Salary\n",
    "def salaries():\n",
    "    salary = driver.find_elements_by_xpath(\"//article/div[1]/div[1]/ul/li[2]/span\")\n",
    "    salarys = [x.text for x in salary]\n",
    "    return salarys\n",
    "\n",
    "# Company Location\n",
    "def locating():\n",
    "    location = driver.find_elements_by_xpath('//article/div[1]/div[1]/ul/li[3]/span[1]')\n",
    "    locations = [x.text for x in location]\n",
    "    return locations\n",
    "\n",
    "# Experience \n",
    "def experts():\n",
    "    experience = driver.find_elements_by_xpath('//article/div[1]/div[1]/ul/li[1]/span')\n",
    "    experiences = [x.text for x in experience]\n",
    "    return experiences\n",
    "\n",
    "# Skills Needed \n",
    "def skills():\n",
    "    skill = driver.find_elements_by_xpath('//article/ul')\n",
    "    skills = [x.text for x in skill]\n",
    "    skill_sliced = [skills[x].replace(\"\\n\", \", \") for x in range(len(skill))]\n",
    "    return skill_sliced\n",
    "\n",
    "names = []\n",
    "companys = []\n",
    "salarys = []\n",
    "experiences = []\n",
    "skills_needed = []\n",
    "\n",
    "for x in range(5):\n",
    "    names += job_role()\n",
    "    companys += companies()\n",
    "    salarys += salaries()\n",
    "    experiences += experts()\n",
    "    skills_needed += skills()\n",
    "    time.sleep(1)\n",
    "    next_btn = driver.find_element_by_xpath('//section[2]/div[3]/a[2]/span')\n",
    "    next_btn.click()\n",
    "    time.sleep(5)\n",
    "  "
   ]
  },
  {
   "cell_type": "markdown",
   "metadata": {},
   "source": [
    "# Lists to Dictionary"
   ]
  },
  {
   "cell_type": "code",
   "execution_count": 24,
   "metadata": {},
   "outputs": [],
   "source": [
    "data = {\n",
    "  \"Job Role\" : names,\n",
    "  \"Company\" : companys,\n",
    "  \"Salary\" : salarys,\n",
    "  \"Experience\" : experiences,\n",
    "  \"Skills\" : skills_needed\n",
    "}\n"
   ]
  },
  {
   "cell_type": "markdown",
   "metadata": {},
   "source": [
    "# Dictionary to Pandas DataFrame"
   ]
  },
  {
   "cell_type": "code",
   "execution_count": 26,
   "metadata": {},
   "outputs": [
    {
     "data": {
      "text/html": [
       "<div>\n",
       "<style scoped>\n",
       "    .dataframe tbody tr th:only-of-type {\n",
       "        vertical-align: middle;\n",
       "    }\n",
       "\n",
       "    .dataframe tbody tr th {\n",
       "        vertical-align: top;\n",
       "    }\n",
       "\n",
       "    .dataframe thead th {\n",
       "        text-align: right;\n",
       "    }\n",
       "</style>\n",
       "<table border=\"1\" class=\"dataframe\">\n",
       "  <thead>\n",
       "    <tr style=\"text-align: right;\">\n",
       "      <th></th>\n",
       "      <th>Job Role</th>\n",
       "      <th>Company</th>\n",
       "      <th>Salary</th>\n",
       "      <th>Experience</th>\n",
       "      <th>Skills</th>\n",
       "    </tr>\n",
       "  </thead>\n",
       "  <tbody>\n",
       "    <tr>\n",
       "      <th>0</th>\n",
       "      <td>Python Developer</td>\n",
       "      <td>Empower IT Systems Pvt Ltd</td>\n",
       "      <td>Not disclosed</td>\n",
       "      <td>4-8 Yrs</td>\n",
       "      <td>automation, appium, Python, communication, IT ...</td>\n",
       "    </tr>\n",
       "    <tr>\n",
       "      <th>1</th>\n",
       "      <td>Python Developer</td>\n",
       "      <td>L A Consultancy</td>\n",
       "      <td>Not disclosed</td>\n",
       "      <td>5-10 Yrs</td>\n",
       "      <td>Pytorch, GitHub, Jenkins, API, TensorFlow, CV,...</td>\n",
       "    </tr>\n",
       "    <tr>\n",
       "      <th>2</th>\n",
       "      <td>Python Developer</td>\n",
       "      <td>Concept Management</td>\n",
       "      <td>Not disclosed</td>\n",
       "      <td>2-5 Yrs</td>\n",
       "      <td>IT Skills, Python, HTML, CSS, Javascript, Fron...</td>\n",
       "    </tr>\n",
       "    <tr>\n",
       "      <th>3</th>\n",
       "      <td>Python Developer - SQL/JSON</td>\n",
       "      <td>Prime Infosoft</td>\n",
       "      <td>Not disclosed</td>\n",
       "      <td>3-5 Yrs</td>\n",
       "      <td>IT Skills, Java, Python, Cloud, RESTful API, W...</td>\n",
       "    </tr>\n",
       "    <tr>\n",
       "      <th>4</th>\n",
       "      <td>Python Developer</td>\n",
       "      <td>Hucon Solutions</td>\n",
       "      <td>Not disclosed</td>\n",
       "      <td>5-10 Yrs</td>\n",
       "      <td>ORM, MongoDB, pySpark, RDBMS, HDFS, CSS3, Java...</td>\n",
       "    </tr>\n",
       "    <tr>\n",
       "      <th>...</th>\n",
       "      <td>...</td>\n",
       "      <td>...</td>\n",
       "      <td>...</td>\n",
       "      <td>...</td>\n",
       "      <td>...</td>\n",
       "    </tr>\n",
       "    <tr>\n",
       "      <th>95</th>\n",
       "      <td>Python Developer</td>\n",
       "      <td>HawksCode</td>\n",
       "      <td>Not disclosed</td>\n",
       "      <td>0-2 Yrs</td>\n",
       "      <td>assembly language, Six Sigma, JavaScript, Real...</td>\n",
       "    </tr>\n",
       "    <tr>\n",
       "      <th>96</th>\n",
       "      <td>Python Developers</td>\n",
       "      <td>Fleming</td>\n",
       "      <td>Not disclosed</td>\n",
       "      <td>0-1 Yrs</td>\n",
       "      <td>Python, OOPs Concept, Django, Core Python, IT ...</td>\n",
       "    </tr>\n",
       "    <tr>\n",
       "      <th>97</th>\n",
       "      <td>Python Developer</td>\n",
       "      <td>Blueskies HR</td>\n",
       "      <td>Not disclosed</td>\n",
       "      <td>0-4 Yrs</td>\n",
       "      <td>Python</td>\n",
       "    </tr>\n",
       "    <tr>\n",
       "      <th>98</th>\n",
       "      <td>Python Developer</td>\n",
       "      <td>V P Placement</td>\n",
       "      <td>Not disclosed</td>\n",
       "      <td>0-3 Yrs</td>\n",
       "      <td>CSS, Application programming, Django, MySQL, H...</td>\n",
       "    </tr>\n",
       "    <tr>\n",
       "      <th>99</th>\n",
       "      <td>Python developer</td>\n",
       "      <td>HUSYS CONSULTING LIMITED</td>\n",
       "      <td>Not disclosed</td>\n",
       "      <td>0-2 Yrs</td>\n",
       "      <td>Python</td>\n",
       "    </tr>\n",
       "  </tbody>\n",
       "</table>\n",
       "<p>100 rows × 5 columns</p>\n",
       "</div>"
      ],
      "text/plain": [
       "                       Job Role                     Company         Salary  \\\n",
       "0              Python Developer  Empower IT Systems Pvt Ltd  Not disclosed   \n",
       "1              Python Developer             L A Consultancy  Not disclosed   \n",
       "2              Python Developer          Concept Management  Not disclosed   \n",
       "3   Python Developer - SQL/JSON              Prime Infosoft  Not disclosed   \n",
       "4              Python Developer             Hucon Solutions  Not disclosed   \n",
       "..                          ...                         ...            ...   \n",
       "95             Python Developer                   HawksCode  Not disclosed   \n",
       "96            Python Developers                     Fleming  Not disclosed   \n",
       "97             Python Developer                Blueskies HR  Not disclosed   \n",
       "98             Python Developer               V P Placement  Not disclosed   \n",
       "99             Python developer    HUSYS CONSULTING LIMITED  Not disclosed   \n",
       "\n",
       "   Experience                                             Skills  \n",
       "0     4-8 Yrs  automation, appium, Python, communication, IT ...  \n",
       "1    5-10 Yrs  Pytorch, GitHub, Jenkins, API, TensorFlow, CV,...  \n",
       "2     2-5 Yrs  IT Skills, Python, HTML, CSS, Javascript, Fron...  \n",
       "3     3-5 Yrs  IT Skills, Java, Python, Cloud, RESTful API, W...  \n",
       "4    5-10 Yrs  ORM, MongoDB, pySpark, RDBMS, HDFS, CSS3, Java...  \n",
       "..        ...                                                ...  \n",
       "95    0-2 Yrs  assembly language, Six Sigma, JavaScript, Real...  \n",
       "96    0-1 Yrs  Python, OOPs Concept, Django, Core Python, IT ...  \n",
       "97    0-4 Yrs                                             Python  \n",
       "98    0-3 Yrs  CSS, Application programming, Django, MySQL, H...  \n",
       "99    0-2 Yrs                                             Python  \n",
       "\n",
       "[100 rows x 5 columns]"
      ]
     },
     "execution_count": 26,
     "metadata": {},
     "output_type": "execute_result"
    }
   ],
   "source": [
    "\n",
    "df = pd.DataFrame(data)\n",
    "df"
   ]
  },
  {
   "cell_type": "markdown",
   "metadata": {},
   "source": [
    "# Cleaning the Data\n"
   ]
  },
  {
   "cell_type": "code",
   "execution_count": null,
   "metadata": {},
   "outputs": [],
   "source": []
  },
  {
   "cell_type": "markdown",
   "metadata": {},
   "source": [
    "# Saving Data To Excel"
   ]
  },
  {
   "cell_type": "code",
   "execution_count": null,
   "metadata": {},
   "outputs": [],
   "source": []
  }
 ],
 "metadata": {
  "interpreter": {
   "hash": "d66d0557afbea81240a3a5d2d5b4599bf8bee2732053be4cc8098b9d77804afa"
  },
  "kernelspec": {
   "display_name": "Python 3.9.6 64-bit",
   "name": "python3"
  },
  "language_info": {
   "codemirror_mode": {
    "name": "ipython",
    "version": 3
   },
   "file_extension": ".py",
   "mimetype": "text/x-python",
   "name": "python",
   "nbconvert_exporter": "python",
   "pygments_lexer": "ipython3",
   "version": "3.9.6"
  },
  "orig_nbformat": 4
 },
 "nbformat": 4,
 "nbformat_minor": 2
}
