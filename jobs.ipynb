{
 "cells": [
  {
   "cell_type": "markdown",
   "metadata": {},
   "source": [
    "# Importing Packages"
   ]
  },
  {
   "cell_type": "code",
   "execution_count": 47,
   "metadata": {},
   "outputs": [],
   "source": [
    "from selenium import webdriver\n",
    "import pandas as pd\n",
    "import time"
   ]
  },
  {
   "cell_type": "markdown",
   "metadata": {},
   "source": [
    "# Setting Up"
   ]
  },
  {
   "cell_type": "code",
   "execution_count": 48,
   "metadata": {},
   "outputs": [],
   "source": [
    "# Naukri Site\n",
    "\n",
    "naukri = \"https://www.naukri.com/\"\n",
    "edge_path = \"C:\\webdrivers\\msedgedriver.exe\"\n",
    "\n",
    "driver = webdriver.Edge(executable_path=edge_path)\n",
    "driver.get(naukri)\n",
    "driver.maximize_window()\n",
    "time.sleep(1)"
   ]
  },
  {
   "cell_type": "markdown",
   "metadata": {},
   "source": [
    "# Accepting Cookies"
   ]
  },
  {
   "cell_type": "code",
   "execution_count": null,
   "metadata": {},
   "outputs": [],
   "source": []
  },
  {
   "cell_type": "markdown",
   "metadata": {},
   "source": [
    "# Data We Want to Scrap"
   ]
  },
  {
   "cell_type": "code",
   "execution_count": 49,
   "metadata": {},
   "outputs": [],
   "source": [
    "# Searching for Python Developers\n",
    "\n",
    "n_search = driver.find_element_by_xpath('(//input[@class=\"sugInp\"])[1]')\n",
    "n_search.click()\n",
    "\n",
    "time.sleep(1)\n",
    "\n",
    "n_search.send_keys(\"Python Developer\")\n",
    "\n",
    "n_search_btn = driver.find_element_by_xpath('//*[@id=\"root\"]/div[3]/div[2]/section/div/form/div[3]/button')\n",
    "n_search_btn.click()\n",
    "\n",
    "time.sleep(10)\n",
    "\n",
    "# Closing Assistant\n",
    "cross_assist = driver.find_element_by_xpath('//div[@class=\"crossIcon chatBot chatBot-ic-cross\"]')\n",
    "cross_assist.click()\n",
    "time.sleep(2)"
   ]
  },
  {
   "cell_type": "code",
   "execution_count": 102,
   "metadata": {},
   "outputs": [
    {
     "name": "stdout",
     "output_type": "stream",
     "text": [
      "21\n"
     ]
    }
   ],
   "source": [
    "# Fetching Data\n",
    "\n",
    "# Job Titles\n",
    "\n",
    "name = driver.find_elements_by_xpath('//a[@class=\"title fw500 ellipsis\"]')\n",
    "names = [x.text for x in name]\n",
    "\n",
    "# Company Name\n",
    "\n",
    "company = driver.find_elements_by_xpath('//a[@class=\"subTitle ellipsis fleft\"]')\n",
    "companys = [x.text for x in company]\n",
    "\n",
    "# Company Salary\n",
    "\n",
    "salary = driver.find_elements_by_xpath(\"//article/div[1]/div[1]/ul/li[2]/span\")\n",
    "salarys = [x.text for x in salary]\n",
    "\n",
    "# Company Location\n",
    "\n",
    "location = driver.find_elements_by_xpath('//article/div[1]/div[1]/ul/li[3]/span[1]')\n",
    "locations = [x.text for x in location]\n",
    "\n",
    "# Experience \n",
    "\n",
    "experience = driver.find_elements_by_xpath('//article/div[1]/div[1]/ul/li[1]/span')\n",
    "experiences = [x.text for x in experience]\n",
    "\n",
    "# Skills Needed \n",
    "\n",
    "skill = driver.find_elements_by_xpath('//article/ul')\n",
    "skills = [x.text for x in skill]\n",
    "skill_sliced = []\n",
    "for x in range(len(skill)):\n",
    "  y = skills[x].replace(\"\\n\", \", \")\n",
    "  skill_sliced.append(y)\n",
    "\n"
   ]
  },
  {
   "cell_type": "markdown",
   "metadata": {},
   "source": [
    "# Creating Dataframe"
   ]
  },
  {
   "cell_type": "code",
   "execution_count": null,
   "metadata": {},
   "outputs": [],
   "source": []
  },
  {
   "cell_type": "markdown",
   "metadata": {},
   "source": [
    "# Making scraped data to list"
   ]
  },
  {
   "cell_type": "code",
   "execution_count": null,
   "metadata": {},
   "outputs": [],
   "source": []
  },
  {
   "cell_type": "markdown",
   "metadata": {},
   "source": [
    "# Lists to Dictionary"
   ]
  },
  {
   "cell_type": "code",
   "execution_count": null,
   "metadata": {},
   "outputs": [],
   "source": []
  },
  {
   "cell_type": "markdown",
   "metadata": {},
   "source": [
    "# Dictionary to Pandas DataFrame"
   ]
  },
  {
   "cell_type": "code",
   "execution_count": null,
   "metadata": {},
   "outputs": [],
   "source": []
  },
  {
   "cell_type": "markdown",
   "metadata": {},
   "source": [
    "# Cleaning the Data\n"
   ]
  },
  {
   "cell_type": "code",
   "execution_count": null,
   "metadata": {},
   "outputs": [],
   "source": []
  },
  {
   "cell_type": "markdown",
   "metadata": {},
   "source": [
    "# Saving Data To Excel"
   ]
  },
  {
   "cell_type": "code",
   "execution_count": null,
   "metadata": {},
   "outputs": [],
   "source": []
  }
 ],
 "metadata": {
  "interpreter": {
   "hash": "d66d0557afbea81240a3a5d2d5b4599bf8bee2732053be4cc8098b9d77804afa"
  },
  "kernelspec": {
   "display_name": "Python 3.9.6 64-bit",
   "name": "python3"
  },
  "language_info": {
   "codemirror_mode": {
    "name": "ipython",
    "version": 3
   },
   "file_extension": ".py",
   "mimetype": "text/x-python",
   "name": "python",
   "nbconvert_exporter": "python",
   "pygments_lexer": "ipython3",
   "version": "3.9.6"
  },
  "orig_nbformat": 4
 },
 "nbformat": 4,
 "nbformat_minor": 2
}
